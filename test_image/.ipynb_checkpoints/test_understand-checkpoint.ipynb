{
 "cells": [
  {
   "cell_type": "code",
   "execution_count": 6,
   "metadata": {
    "collapsed": false
   },
   "outputs": [
    {
     "name": "stdout",
     "output_type": "stream",
     "text": [
      "<type 'numpy.ndarray'>\n"
     ]
    }
   ],
   "source": [
    "import numpy as np\n",
    "import cv2\n",
    "import math\n",
    "from scipy import ndimage\n",
    "\n",
    "gray = cv2.imread(\"/home/nikoong/Algorithm_test/handwritting/test_image/5.jpg\", cv2.IMREAD_GRAYSCALE)\n",
    "\n",
    "(thresh, gray) = cv2.threshold(gray, 128, 255, cv2.THRESH_BINARY | cv2.THRESH_OTSU)\n",
    "\n",
    "gray = cv2.resize(255-gray,(28,28))  \n",
    "\n",
    "print gray\n",
    "\n",
    "while np.sum(gray[0]) == 0:\n",
    "    gray = gray[1:]\n",
    "\n",
    "while np.sum(gray[:,0]) == 0:\n",
    "    gray = np.delete(gray,0,1)\n",
    "\n",
    "while np.sum(gray[-1]) == 0:\n",
    "    gray = gray[:-1]\n",
    "\n",
    "while np.sum(gray[:,-1]) == 0:\n",
    "    gray = np.delete(gray,-1,1)\n",
    "\n",
    "rows,cols = gray.shape\n"
   ]
  },
  {
   "cell_type": "code",
   "execution_count": 8,
   "metadata": {
    "collapsed": false
   },
   "outputs": [
    {
     "ename": "NameError",
     "evalue": "name 'numpy' is not defined",
     "output_type": "error",
     "traceback": [
      "\u001b[1;31m---------------------------------------------------------------------------\u001b[0m",
      "\u001b[1;31mNameError\u001b[0m                                 Traceback (most recent call last)",
      "\u001b[1;32m<ipython-input-8-38faf504193f>\u001b[0m in \u001b[0;36m<module>\u001b[1;34m()\u001b[0m\n\u001b[0;32m      1\u001b[0m \u001b[1;32mimport\u001b[0m \u001b[0mnumpy\u001b[0m \u001b[1;32mas\u001b[0m \u001b[0mnp\u001b[0m\u001b[1;33m\u001b[0m\u001b[0m\n\u001b[1;32m----> 2\u001b[1;33m \u001b[0mtest\u001b[0m \u001b[1;33m=\u001b[0m \u001b[0mnumpy\u001b[0m\u001b[1;33m.\u001b[0m\u001b[0marray\u001b[0m\u001b[1;33m(\u001b[0m\u001b[1;33m[\u001b[0m\u001b[1;33m[\u001b[0m\u001b[1;36m1\u001b[0m\u001b[1;33m,\u001b[0m\u001b[1;36m2\u001b[0m\u001b[1;33m,\u001b[0m\u001b[1;36m3\u001b[0m\u001b[1;33m,\u001b[0m\u001b[1;36m4\u001b[0m\u001b[1;33m]\u001b[0m\u001b[1;33m,\u001b[0m\u001b[1;33m[\u001b[0m\u001b[1;36m11\u001b[0m\u001b[1;33m,\u001b[0m\u001b[1;36m22\u001b[0m\u001b[1;33m,\u001b[0m\u001b[1;36m33\u001b[0m\u001b[1;33m,\u001b[0m\u001b[1;36m44\u001b[0m\u001b[1;33m]\u001b[0m\u001b[1;33m,\u001b[0m\u001b[1;33m[\u001b[0m\u001b[1;36m111\u001b[0m\u001b[1;33m,\u001b[0m\u001b[1;36m222\u001b[0m\u001b[1;33m,\u001b[0m\u001b[1;36m333\u001b[0m\u001b[1;33m,\u001b[0m\u001b[1;36m444\u001b[0m\u001b[1;33m]\u001b[0m\u001b[1;33m]\u001b[0m\u001b[1;33m)\u001b[0m\u001b[1;33m\u001b[0m\u001b[0m\n\u001b[0m\u001b[0;32m      3\u001b[0m \u001b[1;32mprint\u001b[0m \u001b[0mtest\u001b[0m\u001b[1;33m[\u001b[0m\u001b[1;36m1\u001b[0m\u001b[1;33m]\u001b[0m\u001b[1;33m\u001b[0m\u001b[0m\n",
      "\u001b[1;31mNameError\u001b[0m: name 'numpy' is not defined"
     ]
    }
   ],
   "source": [
    "\n",
    "test = np.array([[1,2,3,4],[11,22,33,44],[111,222,333,444]])\n",
    "print test[1]"
   ]
  },
  {
   "cell_type": "code",
   "execution_count": null,
   "metadata": {
    "collapsed": true
   },
   "outputs": [],
   "source": [
    "\n",
    "if rows>cols:\n",
    "    factor = 20.0/rows\n",
    "    rows = 20\n",
    "    cols = int(round(cols*factor))\n",
    "    gray = cv2.resize(gray,(cols,rows))\n",
    "else:\n",
    "    factor = 20.0/cols\n",
    "    cols = 20\n",
    "    rows = int(round(rows*factor))\n",
    "    gray = cv2.resize(gray,(cols,rows))\n",
    "\n",
    "colsPadding = (int(math.ceil((28-cols)/2.0)),int(math.floor((28-cols)/2.0)))\n",
    "rowsPadding = (int(math.ceil((28-rows)/2.0)),int(math.floor((28-rows)/2.0)))\n",
    "gray = np.lib.pad(gray,(rowsPadding,colsPadding),'constant')\n",
    "\n",
    "def getBestShift(img):\n",
    "    cy,cx = ndimage.measurements.center_of_mass(img)\n",
    "    rows,cols = img.shape\n",
    "    shiftx = np.round(cols/2.0-cx).astype(int)\n",
    "    shifty = np.round(rows/2.0-cy).astype(int)\n",
    "    return shiftx,shifty\n",
    "\n",
    "def shift(img,sx,sy):\n",
    "    rows,cols = img.shape\n",
    "    M = np.float32([[1,0,sx],[0,1,sy]])\n",
    "    shifted = cv2.warpAffine(img,M,(cols,rows))\n",
    "    return shifted\n",
    "\n",
    "\n",
    "shiftx,shifty = getBestShift(gray)\n",
    "shifted = shift(gray,shiftx,shifty)\n",
    "gray = shifted\n",
    "\n",
    "\n",
    "cv2.imwrite(\"/home/nikoong/Algorithm_test/handwritting/test_image/test1_test.jpg\",gray)\n"
   ]
  }
 ],
 "metadata": {
  "kernelspec": {
   "display_name": "Python 2",
   "language": "python",
   "name": "python2"
  },
  "language_info": {
   "codemirror_mode": {
    "name": "ipython",
    "version": 2
   },
   "file_extension": ".py",
   "mimetype": "text/x-python",
   "name": "python",
   "nbconvert_exporter": "python",
   "pygments_lexer": "ipython2",
   "version": "2.7.9"
  }
 },
 "nbformat": 4,
 "nbformat_minor": 0
}
